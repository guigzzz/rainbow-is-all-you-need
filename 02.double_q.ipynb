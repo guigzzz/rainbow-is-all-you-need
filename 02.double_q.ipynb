{
 "cells": [
  {
   "cell_type": "markdown",
   "metadata": {},
   "source": [
    "## Configurations for Colab"
   ]
  },
  {
   "cell_type": "code",
   "execution_count": 1,
   "metadata": {},
   "outputs": [],
   "source": [
    "import sys\n",
    "IN_COLAB = \"google.colab\" in sys.modules\n",
    "\n",
    "if IN_COLAB:\n",
    "    !apt install python-opengl\n",
    "    !apt install ffmpeg\n",
    "    !apt install xvfb\n",
    "    !pip install PyVirtualDisplay==3.0\n",
    "    !pip install gymnasium == 0.28.1\n",
    "    from pyvirtualdisplay import Display\n",
    "    \n",
    "    # Start virtual display\n",
    "    dis = Display(visible=0, size=(400, 400))\n",
    "    dis.start()"
   ]
  },
  {
   "cell_type": "markdown",
   "metadata": {},
   "source": [
    "# 02. Double DQN\n",
    "\n",
    "[van Hasselt et al., \"Deep Reinforcement Learning with Double Q-learning.\" arXiv preprint arXiv:1509.06461, 2015.](https://arxiv.org/pdf/1509.06461.pdf)\n",
    "\n",
    "\n",
    "\n",
    "\n",
    "Let's take a close look at the difference between DQN and Double-DQN. The max operator in standard Q-learning and DQN uses the same values both to select and to evaluate an action. This makes it more likely to select overestimated values, resulting in overoptimistic value estimates.\n",
    "\n",
    "$$\n",
    "\\theta_{t+1} = \\theta_t + \\alpha \\big(Y_t^Q - Q(S_t, A_t; \\theta_t)\\big) \\cdot \\nabla_{\\theta_t} Q(S_t, A_t; \\theta_t),\\\\\n",
    "\\text{where } \\alpha \\text{ is a scalar step size and the target } Y_t^Q \\text{is defined as }\\\\\n",
    "Y_t^Q = R_{t+1} + \\gamma \\max_a Q(S_{t+1}, a; \\theta_t).\n",
    "$$\n",
    "\n",
    "In Double Q-learning ([van Hasselt 2010](https://papers.nips.cc/paper/3964-double-q-learning.pdf)), two value functions are learned by assigning experiences randomly to update one of the two value functions, resulting in two sets of weights, $\\theta$ and $\\theta'$. For each update, one set of weights is used to determine the greedy policy and the other to determine its value. For a clear comparison, we can untangle the selection and evaluation in Q-learning and rewrite DQN's target as\n",
    "\n",
    "$$\n",
    "Y_t^Q = R_{t+1} + \\gamma Q(S_{t+1}, \\arg\\max_a Q(S_{t+1}, a; \\theta_t); \\theta_t).\n",
    "$$\n",
    "\n",
    "The Double Q-learning error can then be written as\n",
    "\n",
    "$$\n",
    "Y_t^{DoubleQ} = R_{t+1} + \\gamma Q(S_{t+1}, \\arg\\max_a Q(S_{t+1}, a; \\theta_t); \\theta_t').\n",
    "$$\n",
    "\n",
    "The idea of Double Q-learning is to reduce overestimations by decomposing the max operation in the target into action selection and action evaluation. Although not fully decoupled, the target network in the DQN architecture provides a natural candidate for the second value function, without having to introduce additional networks. In conclusion, the weights of the second network $\\theta_t'$ are replaced with the weights of the target network for the evaluation of the current greedy policy. This makes just a small change in calculating the target value of DQN loss.\n",
    "\n",
    "##### DQN:\n",
    "\n",
    "```\n",
    "target = reward + gamma * dqn_target(next_state).max(dim=1, keepdim=True)[0]\n",
    "```\n",
    "\n",
    "##### DoubleDQN:\n",
    "\n",
    "```\n",
    "selected_action = dqn(next_state).argmax(dim=1, keepdim=True)\n",
    "target = reward + gamma * dqn_target(next_state).gather(1, selected_action)\n",
    "```\n",
    "      "
   ]
  },
  {
   "cell_type": "code",
   "execution_count": 2,
   "metadata": {},
   "outputs": [
    {
     "name": "stderr",
     "output_type": "stream",
     "text": [
      "/home/guillaume/rainbow-is-all-you-need/.venv/lib/python3.8/site-packages/tqdm/auto.py:21: TqdmWarning: IProgress not found. Please update jupyter and ipywidgets. See https://ipywidgets.readthedocs.io/en/stable/user_install.html\n",
      "  from .autonotebook import tqdm as notebook_tqdm\n"
     ]
    }
   ],
   "source": [
    "import os\n",
    "from typing import Dict, List, Tuple\n",
    "\n",
    "import gymnasium as gym\n",
    "import matplotlib.pyplot as plt\n",
    "import numpy as np\n",
    "import torch\n",
    "import torch.nn as nn\n",
    "import torch.nn.functional as F\n",
    "import torch.optim as optim\n",
    "from IPython.display import clear_output"
   ]
  },
  {
   "cell_type": "markdown",
   "metadata": {},
   "source": [
    "## Replay buffer\n",
    "\n",
    "Please see *01.dqn.ipynb* for detailed description."
   ]
  },
  {
   "cell_type": "code",
   "execution_count": 3,
   "metadata": {},
   "outputs": [],
   "source": [
    "class ReplayBuffer:\n",
    "    \"\"\"A simple numpy replay buffer.\"\"\"\n",
    "\n",
    "    def __init__(self, obs_dim: int, size: int, batch_size: int = 32):\n",
    "        self.obs_buf = np.zeros([size, obs_dim], dtype=np.float32)\n",
    "        self.next_obs_buf = np.zeros([size, obs_dim], dtype=np.float32)\n",
    "        self.acts_buf = np.zeros([size], dtype=np.float32)\n",
    "        self.rews_buf = np.zeros([size], dtype=np.float32)\n",
    "        self.done_buf = np.zeros(size, dtype=np.float32)\n",
    "        self.max_size, self.batch_size = size, batch_size\n",
    "        self.ptr, self.size, = 0, 0\n",
    "\n",
    "    def store(\n",
    "        self,\n",
    "        obs: np.ndarray,\n",
    "        act: np.ndarray, \n",
    "        rew: float, \n",
    "        next_obs: np.ndarray, \n",
    "        done: bool,\n",
    "    ):\n",
    "        self.obs_buf[self.ptr] = obs\n",
    "        self.next_obs_buf[self.ptr] = next_obs\n",
    "        self.acts_buf[self.ptr] = act\n",
    "        self.rews_buf[self.ptr] = rew\n",
    "        self.done_buf[self.ptr] = done\n",
    "        self.ptr = (self.ptr + 1) % self.max_size\n",
    "        self.size = min(self.size + 1, self.max_size)\n",
    "\n",
    "    def sample_batch(self) -> Dict[str, np.ndarray]:\n",
    "        idxs = np.random.choice(self.size, size=self.batch_size, replace=False)\n",
    "        return dict(obs=self.obs_buf[idxs],\n",
    "                    next_obs=self.next_obs_buf[idxs],\n",
    "                    acts=self.acts_buf[idxs],\n",
    "                    rews=self.rews_buf[idxs],\n",
    "                    done=self.done_buf[idxs])\n",
    "\n",
    "    def __len__(self) -> int:\n",
    "        return self.size"
   ]
  },
  {
   "cell_type": "markdown",
   "metadata": {},
   "source": [
    "## Network\n",
    "\n",
    "We are going to use a simple network architecture with three fully connected layers and two non-linearity functions (ReLU)."
   ]
  },
  {
   "cell_type": "code",
   "execution_count": 4,
   "metadata": {},
   "outputs": [],
   "source": [
    "class Network(nn.Module):\n",
    "    def __init__(self, in_dim: int, out_dim: int):\n",
    "        \"\"\"Initialization.\"\"\"\n",
    "        super(Network, self).__init__()\n",
    "\n",
    "        self.layers = nn.Sequential(\n",
    "            nn.Linear(in_dim, 128), \n",
    "            nn.ReLU(),\n",
    "            nn.Linear(128, 128), \n",
    "            nn.ReLU(), \n",
    "            nn.Linear(128, out_dim)\n",
    "        )\n",
    "\n",
    "    def forward(self, x: torch.Tensor) -> torch.Tensor:\n",
    "        \"\"\"Forward method implementation.\"\"\"\n",
    "        return self.layers(x)"
   ]
  },
  {
   "cell_type": "markdown",
   "metadata": {},
   "source": [
    "## Double DQN Agent\n",
    "\n",
    "Here is a summary of DQNAgent class.\n",
    "\n",
    "| Method           | Note                                                 |\n",
    "| ---              | ---                                                  |\n",
    "|select_action     | select an action from the input state.               |\n",
    "|step              | take an action and return the response of the env.   |\n",
    "|compute_dqn_loss  | return dqn loss.                                     |\n",
    "|update_model      | update the model by gradient descent.                |\n",
    "|target_hard_update| hard update from the local model to the target model.|\n",
    "|train             | train the agent during num_frames.                   |\n",
    "|test              | test the agent (1 episode).                          |\n",
    "|plot              | plot the training progresses.                        |\n",
    "\n",
    "We use `self.dqn` instead of `self.dqn_target` for action selection.\n",
    "\n",
    "```\n",
    "\n",
    "        next_q_value = self.dqn_target(next_state).gather(\n",
    "            1, self.dqn(next_state).argmax(dim=1, keepdim=True)  # Double DQN\n",
    "        ).detach()\n",
    "        mask = 1 - done\n",
    "        target = (reward + self.gamma * next_q_value * mask).to(self.device)\n",
    "```"
   ]
  },
  {
   "cell_type": "code",
   "execution_count": 5,
   "metadata": {},
   "outputs": [],
   "source": [
    "class DQNAgent:\n",
    "    \"\"\"DQN Agent interacting with environment.\n",
    "    \n",
    "    Attribute:\n",
    "        env (gym.Env): openAI Gym environment\n",
    "        memory (ReplayBuffer): replay memory to store transitions\n",
    "        batch_size (int): batch size for sampling\n",
    "        epsilon (float): parameter for epsilon greedy policy\n",
    "        epsilon_decay (float): step size to decrease epsilon\n",
    "        max_epsilon (float): max value of epsilon\n",
    "        min_epsilon (float): min value of epsilon\n",
    "        target_update (int): period for target model's hard update\n",
    "        gamma (float): discount factor\n",
    "        dqn (Network): model to train and select actions\n",
    "        dqn_target (Network): target model to update\n",
    "        optimizer (torch.optim): optimizer for training dqn\n",
    "        transition (list): transition information including \n",
    "                           state, action, reward, next_state, done\n",
    "    \"\"\"\n",
    "\n",
    "    def __init__(\n",
    "        self, \n",
    "        env: gym.Env,\n",
    "        memory_size: int,\n",
    "        batch_size: int,\n",
    "        target_update: int,\n",
    "        epsilon_decay: float,\n",
    "        seed: int,\n",
    "        max_epsilon: float = 1.0,\n",
    "        min_epsilon: float = 0.1,\n",
    "        gamma: float = 0.99,\n",
    "    ):\n",
    "        \"\"\"Initialization.\n",
    "        \n",
    "        Args:\n",
    "            env (gym.Env): openAI Gym environment\n",
    "            memory_size (int): length of memory\n",
    "            batch_size (int): batch size for sampling\n",
    "            target_update (int): period for target model's hard update\n",
    "            epsilon_decay (float): step size to decrease epsilon\n",
    "            lr (float): learning rate\n",
    "            max_epsilon (float): max value of epsilon\n",
    "            min_epsilon (float): min value of epsilon\n",
    "            gamma (float): discount factor\n",
    "        \"\"\"\n",
    "        obs_dim = env.observation_space.shape[0]\n",
    "        action_dim = env.action_space.n\n",
    "        \n",
    "        self.env = env\n",
    "        self.memory = ReplayBuffer(obs_dim, memory_size, batch_size)\n",
    "        self.batch_size = batch_size\n",
    "        self.epsilon = max_epsilon\n",
    "        self.epsilon_decay = epsilon_decay\n",
    "        self.seed = seed\n",
    "        self.max_epsilon = max_epsilon\n",
    "        self.min_epsilon = min_epsilon\n",
    "        self.target_update = target_update\n",
    "        self.gamma = gamma\n",
    "        \n",
    "        # device: cpu / gpu\n",
    "        self.device = torch.device(\n",
    "            \"cuda\" if torch.cuda.is_available() else \"cpu\"\n",
    "        )\n",
    "        print(self.device)\n",
    "\n",
    "        # networks: dqn, dqn_target\n",
    "        self.dqn = Network(obs_dim, action_dim).to(self.device)\n",
    "        self.dqn_target = Network(obs_dim, action_dim).to(self.device)\n",
    "        self.dqn_target.load_state_dict(self.dqn.state_dict())\n",
    "        self.dqn_target.eval()\n",
    "        \n",
    "        # optimizer\n",
    "        self.optimizer = optim.Adam(self.dqn.parameters())\n",
    "\n",
    "        # transition to store in memory\n",
    "        self.transition = list()\n",
    "        \n",
    "        # mode: train / test\n",
    "        self.is_test = False\n",
    "\n",
    "    def select_action(self, state: np.ndarray) -> np.ndarray:\n",
    "        \"\"\"Select an action from the input state.\"\"\"\n",
    "        # epsilon greedy policy\n",
    "        if self.epsilon > np.random.random():\n",
    "            selected_action = self.env.action_space.sample()\n",
    "        else:\n",
    "            selected_action = self.dqn(\n",
    "                torch.FloatTensor(state).to(self.device)\n",
    "            ).argmax()\n",
    "            selected_action = selected_action.detach().cpu().numpy()\n",
    "        \n",
    "        if not self.is_test:\n",
    "            self.transition = [state, selected_action]\n",
    "        \n",
    "        return selected_action\n",
    "\n",
    "    def step(self, action: np.ndarray) -> Tuple[np.ndarray, np.float64, bool]:\n",
    "        \"\"\"Take an action and return the response of the env.\"\"\"\n",
    "        next_state, reward, terminated, truncated, _ = self.env.step(action)\n",
    "        done = terminated or truncated\n",
    "\n",
    "        if not self.is_test:\n",
    "            self.transition += [reward, next_state, done]\n",
    "            self.memory.store(*self.transition)\n",
    "    \n",
    "        return next_state, reward, done\n",
    "\n",
    "    def update_model(self) -> torch.Tensor:\n",
    "        \"\"\"Update the model by gradient descent.\"\"\"\n",
    "        samples = self.memory.sample_batch()\n",
    "\n",
    "        loss = self._compute_dqn_loss(samples)\n",
    "\n",
    "        self.optimizer.zero_grad()\n",
    "        loss.backward()\n",
    "        self.optimizer.step()\n",
    "\n",
    "        return loss.item()\n",
    "        \n",
    "    def train(self, num_frames: int, plotting_interval: int = 200):\n",
    "        \"\"\"Train the agent.\"\"\"\n",
    "        self.is_test = False\n",
    "        \n",
    "        state, _ = self.env.reset(seed=self.seed)\n",
    "        update_cnt = 0\n",
    "        epsilons = []\n",
    "        losses = []\n",
    "        scores = []\n",
    "        score = 0\n",
    "\n",
    "        for frame_idx in range(1, num_frames + 1):\n",
    "            action = self.select_action(state)\n",
    "            next_state, reward, done = self.step(action)\n",
    "\n",
    "            state = next_state\n",
    "            score += reward\n",
    "\n",
    "            # if episode ends\n",
    "            if done:\n",
    "                state, _ = self.env.reset(seed=self.seed)\n",
    "                scores.append(score)\n",
    "                score = 0\n",
    "\n",
    "            # if training is ready\n",
    "            if len(self.memory) >= self.batch_size:\n",
    "                loss = self.update_model()\n",
    "                losses.append(loss)\n",
    "                update_cnt += 1\n",
    "                \n",
    "                # linearly decrease epsilon\n",
    "                self.epsilon = max(\n",
    "                    self.min_epsilon, self.epsilon - (\n",
    "                        self.max_epsilon - self.min_epsilon\n",
    "                    ) * self.epsilon_decay\n",
    "                )\n",
    "                epsilons.append(self.epsilon)\n",
    "                \n",
    "                # if hard update is needed\n",
    "                if update_cnt % self.target_update == 0:\n",
    "                    self._target_hard_update()\n",
    "\n",
    "            # plotting\n",
    "            if frame_idx % plotting_interval == 0:\n",
    "                self._plot(frame_idx, scores, losses, epsilons)\n",
    "                \n",
    "        self.env.close()\n",
    "                \n",
    "    def test(self, video_folder: str) -> None:\n",
    "        \"\"\"Test the agent.\"\"\"\n",
    "        self.is_test = True\n",
    "        \n",
    "        # for recording a video\n",
    "        naive_env = self.env\n",
    "        self.env = gym.wrappers.RecordVideo(self.env, video_folder=video_folder)\n",
    "        \n",
    "        state, _ = self.env.reset(seed=self.seed)\n",
    "        done = False\n",
    "        score = 0\n",
    "        \n",
    "        while not done:\n",
    "            action = self.select_action(state)\n",
    "            next_state, reward, done = self.step(action)\n",
    "\n",
    "            state = next_state\n",
    "            score += reward\n",
    "        \n",
    "        print(\"score: \", score)\n",
    "        self.env.close()\n",
    "        \n",
    "        # reset\n",
    "        self.env = naive_env\n",
    "\n",
    "    def _compute_dqn_loss(self, samples: Dict[str, np.ndarray]) -> torch.Tensor:\n",
    "        \"\"\"Return dqn loss.\"\"\"\n",
    "        device = self.device  # for shortening the following lines\n",
    "        state = torch.FloatTensor(samples[\"obs\"]).to(device)\n",
    "        next_state = torch.FloatTensor(samples[\"next_obs\"]).to(device)\n",
    "        action = torch.LongTensor(samples[\"acts\"].reshape(-1, 1)).to(device)\n",
    "        reward = torch.FloatTensor(samples[\"rews\"].reshape(-1, 1)).to(device)\n",
    "        done = torch.FloatTensor(samples[\"done\"].reshape(-1, 1)).to(device)\n",
    "        \n",
    "        # G_t   = r + gamma * v(s_{t+1})  if state != Terminal\n",
    "        #       = r                       otherwise\n",
    "        curr_q_value = self.dqn(state).gather(1, action)\n",
    "        next_q_value = self.dqn_target(next_state).gather(  # Double DQN\n",
    "            1, self.dqn(next_state).argmax(dim=1, keepdim=True)\n",
    "        ).detach()\n",
    "        mask = 1 - done\n",
    "        target = (reward + self.gamma * next_q_value * mask).to(self.device)\n",
    "\n",
    "        # calculate dqn loss\n",
    "        loss = F.smooth_l1_loss(curr_q_value, target)\n",
    "\n",
    "        return loss\n",
    "    \n",
    "    def _target_hard_update(self):\n",
    "        \"\"\"Hard update: target <- local.\"\"\"\n",
    "        self.dqn_target.load_state_dict(self.dqn.state_dict())\n",
    "                \n",
    "    def _plot(\n",
    "        self, \n",
    "        frame_idx: int, \n",
    "        scores: List[float], \n",
    "        losses: List[float], \n",
    "        epsilons: List[float],\n",
    "    ):\n",
    "        \"\"\"Plot the training progresses.\"\"\"\n",
    "        clear_output(True)\n",
    "        plt.figure(figsize=(20, 5))\n",
    "        plt.subplot(131)\n",
    "        plt.title('frame %s. score: %s' % (frame_idx, np.mean(scores[-10:])))\n",
    "        plt.plot(scores)\n",
    "        plt.subplot(132)\n",
    "        plt.title('loss')\n",
    "        plt.plot(losses)\n",
    "        plt.subplot(133)\n",
    "        plt.title('epsilons')\n",
    "        plt.plot(epsilons)\n",
    "        plt.show()"
   ]
  },
  {
   "cell_type": "markdown",
   "metadata": {},
   "source": [
    "## Environment\n",
    "\n",
    "You can see the [code](https://github.com/Farama-Foundation/Gymnasium/blob/main/gymnasium/envs/classic_control/cartpole.py) and [configurations](https://github.com/Farama-Foundation/Gymnasium/blob/main/gymnasium/envs/classic_control/cartpole.py#L91) of CartPole-v1 from Farama Gymnasium's repository."
   ]
  },
  {
   "cell_type": "code",
   "execution_count": 6,
   "metadata": {},
   "outputs": [],
   "source": [
    "# environment\n",
    "env = gym.make(\"CartPole-v1\", max_episode_steps=200, render_mode=\"rgb_array\")"
   ]
  },
  {
   "cell_type": "markdown",
   "metadata": {},
   "source": [
    "## Set random seed"
   ]
  },
  {
   "cell_type": "code",
   "execution_count": 7,
   "metadata": {},
   "outputs": [],
   "source": [
    "seed = 777\n",
    "\n",
    "def seed_torch(seed):\n",
    "    torch.manual_seed(seed)\n",
    "    if torch.backends.cudnn.enabled:\n",
    "        torch.cuda.manual_seed(seed)\n",
    "        torch.backends.cudnn.benchmark = False\n",
    "        torch.backends.cudnn.deterministic = True\n",
    "\n",
    "np.random.seed(seed)\n",
    "seed_torch(seed)"
   ]
  },
  {
   "cell_type": "markdown",
   "metadata": {},
   "source": [
    "## Initialize"
   ]
  },
  {
   "cell_type": "code",
   "execution_count": 8,
   "metadata": {},
   "outputs": [
    {
     "name": "stdout",
     "output_type": "stream",
     "text": [
      "cuda\n"
     ]
    }
   ],
   "source": [
    "# parameters\n",
    "num_frames = 10000\n",
    "memory_size = 1000\n",
    "batch_size = 32\n",
    "target_update = 200\n",
    "epsilon_decay = 1 / 2000\n",
    "\n",
    "# train\n",
    "agent = DQNAgent(env, memory_size, batch_size, target_update, epsilon_decay, seed)"
   ]
  },
  {
   "cell_type": "markdown",
   "metadata": {},
   "source": [
    "## Train"
   ]
  },
  {
   "cell_type": "code",
   "execution_count": 9,
   "metadata": {},
   "outputs": [
    {
     "data": {
      "image/png": "[encoded data removed]",
      "text/plain": [
       "<Figure size 2000x500 with 3 Axes>"
      ]
     },
     "metadata": {},
     "output_type": "display_data"
    }
   ],
   "source": [
    "agent.train(num_frames)"
   ]
  },
  {
   "cell_type": "markdown",
   "metadata": {},
   "source": [
    "## Test\n",
    "\n",
    "Run the trained agent (1 episode)."
   ]
  },
  {
   "cell_type": "code",
   "execution_count": 10,
   "metadata": {},
   "outputs": [
    {
     "name": "stdout",
     "output_type": "stream",
     "text": [
      "Moviepy - Building video /home/guillaume/rainbow-is-all-you-need/videos/double_q/rl-video-episode-0.mp4.\n",
      "Moviepy - Writing video /home/guillaume/rainbow-is-all-you-need/videos/double_q/rl-video-episode-0.mp4\n",
      "\n"
     ]
    },
    {
     "name": "stderr",
     "output_type": "stream",
     "text": [
      "                                                               "
     ]
    },
    {
     "name": "stdout",
     "output_type": "stream",
     "text": [
      "Moviepy - Done !\n",
      "Moviepy - video ready /home/guillaume/rainbow-is-all-you-need/videos/double_q/rl-video-episode-0.mp4\n",
      "score:  122.0\n"
     ]
    },
    {
     "name": "stderr",
     "output_type": "stream",
     "text": [
      "\r"
     ]
    }
   ],
   "source": [
    "video_folder=\"videos/double_q\"\n",
    "agent.test(video_folder=video_folder)"
   ]
  },
  {
   "cell_type": "markdown",
   "metadata": {},
   "source": [
    "## Render"
   ]
  },
  {
   "cell_type": "code",
   "execution_count": 11,
   "metadata": {},
   "outputs": [
    {
     "data": {
      "text/html": [
       "\n",
       "        <video width=\"320\" height=\"240\" alt=\"test\" controls>\n",
       "        <source src=\"data:video/mp4;base64,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\" type=\"video/mp4\"/>\n",
       "        </video>\n",
       "        "
      ],
      "text/plain": [
       "<IPython.core.display.HTML object>"
      ]
     },
     "metadata": {},
     "output_type": "display_data"
    },
    {
     "name": "stdout",
     "output_type": "stream",
     "text": [
      "Played: videos/double_q/rl-video-episode-0.mp4\n"
     ]
    }
   ],
   "source": [
    "import base64\n",
    "import glob\n",
    "import io\n",
    "import os\n",
    "\n",
    "from IPython.display import HTML, display\n",
    "\n",
    "\n",
    "def ipython_show_video(path: str) -> None:\n",
    "    \"\"\"Show a video at `path` within IPython Notebook.\"\"\"\n",
    "    if not os.path.isfile(path):\n",
    "        raise NameError(\"Cannot access: {}\".format(path))\n",
    "\n",
    "    video = io.open(path, \"r+b\").read()\n",
    "    encoded = base64.b64encode(video)\n",
    "\n",
    "    display(HTML(\n",
    "        data=\"\"\"\n",
    "        <video width=\"320\" height=\"240\" alt=\"test\" controls>\n",
    "        <source src=\"data:video/mp4;base64,{0}\" type=\"video/mp4\"/>\n",
    "        </video>\n",
    "        \"\"\".format(encoded.decode(\"ascii\"))\n",
    "    ))\n",
    "\n",
    "\n",
    "def show_latest_video(video_folder: str) -> str:\n",
    "    \"\"\"Show the most recently recorded video from video folder.\"\"\"\n",
    "    list_of_files = glob.glob(os.path.join(video_folder, \"*.mp4\"))\n",
    "    latest_file = max(list_of_files, key=os.path.getctime)\n",
    "    ipython_show_video(latest_file)\n",
    "    return latest_file\n",
    "\n",
    "\n",
    "latest_file = show_latest_video(video_folder=video_folder)\n",
    "print(\"Played:\", latest_file)"
   ]
  }
 ],
 "metadata": {
  "kernelspec": {
   "display_name": ".venv",
   "language": "python",
   "name": "python3"
  },
  "language_info": {
   "codemirror_mode": {
    "name": "ipython",
    "version": 3
   },
   "file_extension": ".py",
   "mimetype": "text/x-python",
   "name": "python",
   "nbconvert_exporter": "python",
   "pygments_lexer": "ipython3",
   "version": "3.8.10"
  }
 },
 "nbformat": 4,
 "nbformat_minor": 4
}
