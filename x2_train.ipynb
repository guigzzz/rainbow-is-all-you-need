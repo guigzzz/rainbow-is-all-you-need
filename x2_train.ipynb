{
 "cells": [
  {
   "cell_type": "code",
   "execution_count": 3,
   "metadata": {},
   "outputs": [],
   "source": [
    "%load_ext autoreload\n",
    "%autoreload 2"
   ]
  },
  {
   "cell_type": "code",
   "execution_count": 1,
   "metadata": {},
   "outputs": [],
   "source": [
    "from x2 import X2Env, print_grid\n",
    "from stable_baselines3.common.env_checker import check_env\n",
    "from eval import eval_model\n",
    "from checkpoint import load_from_checkpoint, load_rewards\n",
    "import pandas as pd\n",
    "import numpy as np\n",
    "\n",
    "check_env(X2Env())"
   ]
  },
  {
   "cell_type": "code",
   "execution_count": 4,
   "metadata": {},
   "outputs": [
    {
     "ename": "JSONDecodeError",
     "evalue": "Extra data: line 1 column 43866 (char 43865)",
     "output_type": "error",
     "traceback": [
      "\u001b[0;31m---------------------------------------------------------------------------\u001b[0m",
      "\u001b[0;31mJSONDecodeError\u001b[0m                           Traceback (most recent call last)",
      "\u001b[1;32m/home/guillaume/rainbow-is-all-you-need/x2_train.ipynb Cell 3\u001b[0m line \u001b[0;36m4\n\u001b[1;32m      <a href='vscode-notebook-cell://wsl%2Bubuntu/home/guillaume/rainbow-is-all-you-need/x2_train.ipynb#W2sdnNjb2RlLXJlbW90ZQ%3D%3D?line=0'>1</a>\u001b[0m \u001b[39mimport\u001b[39;00m \u001b[39mplotly\u001b[39;00m\u001b[39m.\u001b[39;00m\u001b[39mexpress\u001b[39;00m \u001b[39mas\u001b[39;00m \u001b[39mpx\u001b[39;00m\n\u001b[1;32m      <a href='vscode-notebook-cell://wsl%2Bubuntu/home/guillaume/rainbow-is-all-you-need/x2_train.ipynb#W2sdnNjb2RlLXJlbW90ZQ%3D%3D?line=1'>2</a>\u001b[0m \u001b[39mimport\u001b[39;00m \u001b[39mpolars\u001b[39;00m \u001b[39mas\u001b[39;00m \u001b[39mpl\u001b[39;00m\n\u001b[0;32m----> <a href='vscode-notebook-cell://wsl%2Bubuntu/home/guillaume/rainbow-is-all-you-need/x2_train.ipynb#W2sdnNjb2RlLXJlbW90ZQ%3D%3D?line=3'>4</a>\u001b[0m rs \u001b[39m=\u001b[39m load_rewards(\u001b[39m\"\u001b[39;49m\u001b[39m3eccbcb1-894f-4721-810b-fd5d0279cb73\u001b[39;49m\u001b[39m\"\u001b[39;49m)\n\u001b[1;32m      <a href='vscode-notebook-cell://wsl%2Bubuntu/home/guillaume/rainbow-is-all-you-need/x2_train.ipynb#W2sdnNjb2RlLXJlbW90ZQ%3D%3D?line=5'>6</a>\u001b[0m df \u001b[39m=\u001b[39m rs\u001b[39m.\u001b[39mgroup_by(\u001b[39m\"\u001b[39m\u001b[39miter\u001b[39m\u001b[39m\"\u001b[39m)\u001b[39m.\u001b[39magg(pl\u001b[39m.\u001b[39mcol(\u001b[39m\"\u001b[39m\u001b[39mreward\u001b[39m\u001b[39m\"\u001b[39m)\u001b[39m.\u001b[39mmean())\u001b[39m.\u001b[39mto_pandas()\n\u001b[1;32m      <a href='vscode-notebook-cell://wsl%2Bubuntu/home/guillaume/rainbow-is-all-you-need/x2_train.ipynb#W2sdnNjb2RlLXJlbW90ZQ%3D%3D?line=7'>8</a>\u001b[0m px\u001b[39m.\u001b[39mline(df, x\u001b[39m=\u001b[39m\u001b[39m\"\u001b[39m\u001b[39miter\u001b[39m\u001b[39m\"\u001b[39m, y\u001b[39m=\u001b[39m\u001b[39m\"\u001b[39m\u001b[39mreward\u001b[39m\u001b[39m\"\u001b[39m)\n",
      "File \u001b[0;32m~/rainbow-is-all-you-need/checkpoint.py:43\u001b[0m, in \u001b[0;36mload_rewards\u001b[0;34m(uuid)\u001b[0m\n\u001b[1;32m     40\u001b[0m f \u001b[39m=\u001b[39m MODELS \u001b[39m/\u001b[39m \u001b[39mf\u001b[39m\u001b[39m\"\u001b[39m\u001b[39m{\u001b[39;00muuid\u001b[39m}\u001b[39;00m\u001b[39m_rewards.jsonl\u001b[39m\u001b[39m\"\u001b[39m\n\u001b[1;32m     42\u001b[0m \u001b[39mwith\u001b[39;00m \u001b[39mopen\u001b[39m(f, \u001b[39m\"\u001b[39m\u001b[39mr\u001b[39m\u001b[39m\"\u001b[39m) \u001b[39mas\u001b[39;00m f:\n\u001b[0;32m---> 43\u001b[0m     lines \u001b[39m=\u001b[39m [json\u001b[39m.\u001b[39mloads(l\u001b[39m.\u001b[39mstrip()) \u001b[39mfor\u001b[39;00m l \u001b[39min\u001b[39;00m f\u001b[39m.\u001b[39mreadlines()]\n\u001b[1;32m     45\u001b[0m dicts \u001b[39m=\u001b[39m {\u001b[39m\"\u001b[39m\u001b[39miter\u001b[39m\u001b[39m\"\u001b[39m: [], \u001b[39m\"\u001b[39m\u001b[39mgame\u001b[39m\u001b[39m\"\u001b[39m: [], \u001b[39m\"\u001b[39m\u001b[39mreward\u001b[39m\u001b[39m\"\u001b[39m: []}\n\u001b[1;32m     47\u001b[0m \u001b[39mfor\u001b[39;00m l \u001b[39min\u001b[39;00m lines:\n",
      "File \u001b[0;32m~/rainbow-is-all-you-need/checkpoint.py:43\u001b[0m, in \u001b[0;36m<listcomp>\u001b[0;34m(.0)\u001b[0m\n\u001b[1;32m     40\u001b[0m f \u001b[39m=\u001b[39m MODELS \u001b[39m/\u001b[39m \u001b[39mf\u001b[39m\u001b[39m\"\u001b[39m\u001b[39m{\u001b[39;00muuid\u001b[39m}\u001b[39;00m\u001b[39m_rewards.jsonl\u001b[39m\u001b[39m\"\u001b[39m\n\u001b[1;32m     42\u001b[0m \u001b[39mwith\u001b[39;00m \u001b[39mopen\u001b[39m(f, \u001b[39m\"\u001b[39m\u001b[39mr\u001b[39m\u001b[39m\"\u001b[39m) \u001b[39mas\u001b[39;00m f:\n\u001b[0;32m---> 43\u001b[0m     lines \u001b[39m=\u001b[39m [json\u001b[39m.\u001b[39;49mloads(l\u001b[39m.\u001b[39;49mstrip()) \u001b[39mfor\u001b[39;00m l \u001b[39min\u001b[39;00m f\u001b[39m.\u001b[39mreadlines()]\n\u001b[1;32m     45\u001b[0m dicts \u001b[39m=\u001b[39m {\u001b[39m\"\u001b[39m\u001b[39miter\u001b[39m\u001b[39m\"\u001b[39m: [], \u001b[39m\"\u001b[39m\u001b[39mgame\u001b[39m\u001b[39m\"\u001b[39m: [], \u001b[39m\"\u001b[39m\u001b[39mreward\u001b[39m\u001b[39m\"\u001b[39m: []}\n\u001b[1;32m     47\u001b[0m \u001b[39mfor\u001b[39;00m l \u001b[39min\u001b[39;00m lines:\n",
      "File \u001b[0;32m/usr/lib/python3.8/json/__init__.py:357\u001b[0m, in \u001b[0;36mloads\u001b[0;34m(s, cls, object_hook, parse_float, parse_int, parse_constant, object_pairs_hook, **kw)\u001b[0m\n\u001b[1;32m    352\u001b[0m     \u001b[39mdel\u001b[39;00m kw[\u001b[39m'\u001b[39m\u001b[39mencoding\u001b[39m\u001b[39m'\u001b[39m]\n\u001b[1;32m    354\u001b[0m \u001b[39mif\u001b[39;00m (\u001b[39mcls\u001b[39m \u001b[39mis\u001b[39;00m \u001b[39mNone\u001b[39;00m \u001b[39mand\u001b[39;00m object_hook \u001b[39mis\u001b[39;00m \u001b[39mNone\u001b[39;00m \u001b[39mand\u001b[39;00m\n\u001b[1;32m    355\u001b[0m         parse_int \u001b[39mis\u001b[39;00m \u001b[39mNone\u001b[39;00m \u001b[39mand\u001b[39;00m parse_float \u001b[39mis\u001b[39;00m \u001b[39mNone\u001b[39;00m \u001b[39mand\u001b[39;00m\n\u001b[1;32m    356\u001b[0m         parse_constant \u001b[39mis\u001b[39;00m \u001b[39mNone\u001b[39;00m \u001b[39mand\u001b[39;00m object_pairs_hook \u001b[39mis\u001b[39;00m \u001b[39mNone\u001b[39;00m \u001b[39mand\u001b[39;00m \u001b[39mnot\u001b[39;00m kw):\n\u001b[0;32m--> 357\u001b[0m     \u001b[39mreturn\u001b[39;00m _default_decoder\u001b[39m.\u001b[39;49mdecode(s)\n\u001b[1;32m    358\u001b[0m \u001b[39mif\u001b[39;00m \u001b[39mcls\u001b[39m \u001b[39mis\u001b[39;00m \u001b[39mNone\u001b[39;00m:\n\u001b[1;32m    359\u001b[0m     \u001b[39mcls\u001b[39m \u001b[39m=\u001b[39m JSONDecoder\n",
      "File \u001b[0;32m/usr/lib/python3.8/json/decoder.py:340\u001b[0m, in \u001b[0;36mJSONDecoder.decode\u001b[0;34m(self, s, _w)\u001b[0m\n\u001b[1;32m    338\u001b[0m end \u001b[39m=\u001b[39m _w(s, end)\u001b[39m.\u001b[39mend()\n\u001b[1;32m    339\u001b[0m \u001b[39mif\u001b[39;00m end \u001b[39m!=\u001b[39m \u001b[39mlen\u001b[39m(s):\n\u001b[0;32m--> 340\u001b[0m     \u001b[39mraise\u001b[39;00m JSONDecodeError(\u001b[39m\"\u001b[39m\u001b[39mExtra data\u001b[39m\u001b[39m\"\u001b[39m, s, end)\n\u001b[1;32m    341\u001b[0m \u001b[39mreturn\u001b[39;00m obj\n",
      "\u001b[0;31mJSONDecodeError\u001b[0m: Extra data: line 1 column 43866 (char 43865)"
     ]
    }
   ],
   "source": [
    "import plotly.express as px\n",
    "import polars as pl\n",
    "\n",
    "rs = load_rewards(\"3eccbcb1-894f-4721-810b-fd5d0279cb73\")\n",
    "\n",
    "df = rs.group_by(\"iter\").agg(pl.col(\"reward\").mean()).to_pandas()\n",
    "\n",
    "px.line(df, x=\"iter\", y=\"reward\")"
   ]
  },
  {
   "cell_type": "code",
   "execution_count": 3,
   "metadata": {},
   "outputs": [
    {
     "name": "stdout",
     "output_type": "stream",
     "text": [
      "92.8077 33.25301370868512\n"
     ]
    },
    {
     "data": {
      "text/plain": [
       "array([[<AxesSubplot:title={'center':'reward'}>]], dtype=object)"
      ]
     },
     "execution_count": 3,
     "metadata": {},
     "output_type": "execute_result"
    },
    {
     "data": {
      "image/png": "[encoded data removed]",
      "text/plain": [
       "<Figure size 640x480 with 1 Axes>"
      ]
     },
     "metadata": {},
     "output_type": "display_data"
    }
   ],
   "source": [
    "uuid = '3eccbcb1-894f-4721-810b-fd5d0279cb73'\n",
    "model, _ = load_from_checkpoint(uuid)\n",
    "\n",
    "rewards = eval_model(model)\n",
    "\n",
    "print(rewards.mean(), rewards.std())\n",
    "\n",
    "df = pd.DataFrame(rewards, columns=[\"reward\"])\n",
    "df.hist()"
   ]
  },
  {
   "cell_type": "code",
   "execution_count": 4,
   "metadata": {},
   "outputs": [
    {
     "name": "stdout",
     "output_type": "stream",
     "text": [
      "274\n",
      "3015 None\n"
     ]
    }
   ],
   "source": [
    "seed = int(np.argmax(rewards))\n",
    "print(seed, print(np.max(rewards)))\n",
    "\n",
    "env = X2Env()\n",
    "state, _ = env.reset(seed=seed)\n",
    "\n",
    "iter = 0"
   ]
  },
  {
   "cell_type": "code",
   "execution_count": 296,
   "metadata": {},
   "outputs": [
    {
     "name": "stdout",
     "output_type": "stream",
     "text": [
      "0010 0011 0007 0009 0010\n",
      "0009 0007 0001 0008 0005\n",
      "0008 0006 0003 0005 0007\n",
      "0007 0005 0002 0004 0005\n",
      "0001 0007 0003 0002 0006\n",
      "iter: 291, next: 4 action: 0\n",
      "0010 0011 0007 0009 0010\n",
      "0009 0007 0001 0008 0005\n",
      "0008 0006 0003 0005 0007\n",
      "0007 0005 0002 0004 0005\n",
      "0001 0007 0003 0002 0006\n"
     ]
    }
   ],
   "source": [
    "s = env.get_state()\n",
    "\n",
    "print_grid(s.grid)\n",
    "\n",
    "action, _ = model.predict(state, deterministic=True)\n",
    "\n",
    "print(f\"iter: {iter}, next: {s.next_play} action: {action}\")\n",
    "\n",
    "next_state, reward, done, _, _ = env.step(action)\n",
    "\n",
    "print_grid(s.grid)\n",
    "iter += 1"
   ]
  }
 ],
 "metadata": {
  "kernelspec": {
   "display_name": ".venv",
   "language": "python",
   "name": "python3"
  },
  "language_info": {
   "codemirror_mode": {
    "name": "ipython",
    "version": 3
   },
   "file_extension": ".py",
   "mimetype": "text/x-python",
   "name": "python",
   "nbconvert_exporter": "python",
   "pygments_lexer": "ipython3",
   "version": "3.8.10"
  },
  "orig_nbformat": 4
 },
 "nbformat": 4,
 "nbformat_minor": 2
}
