{
 "cells": [
  {
   "cell_type": "code",
   "execution_count": 1,
   "metadata": {},
   "outputs": [],
   "source": [
    "%load_ext autoreload\n",
    "%autoreload 2"
   ]
  },
  {
   "cell_type": "code",
   "execution_count": 2,
   "metadata": {},
   "outputs": [],
   "source": [
    "from x2 import X2Env\n",
    "from stable_baselines3.common.env_checker import check_env\n",
    "\n",
    "check_env(X2Env())"
   ]
  },
  {
   "cell_type": "code",
   "execution_count": 91,
   "metadata": {},
   "outputs": [
    {
     "name": "stdout",
     "output_type": "stream",
     "text": [
      "Loading latest model: models/3eccbcb1-894f-4721-810b-fd5d0279cb73_100.0k.model\n"
     ]
    }
   ],
   "source": [
    "from eval import eval_model\n",
    "from checkpoint import load_from_checkpoint\n",
    "\n",
    "N = 25_000\n",
    "\n",
    "all_rews = []\n",
    "\n",
    "uuid = '3eccbcb1-894f-4721-810b-fd5d0279cb73'\n",
    "model, offset = load_from_checkpoint(uuid)\n",
    "\n",
    "for i in range(1, 100):\n",
    "    model.learn(total_timesteps=N)\n",
    "    rewards = eval_model(model)\n",
    "\n",
    "    iters = (offset + N * (i + 1)) / 1000\n",
    "    print(f'after {iters}k learning steps, mean rewards: {rewards.mean():0.2f}, std={rewards.std():0.2f}')\n",
    "\n",
    "    model.save(f\"models/{uuid}_{iters}k.model\")\n",
    "\n",
    "    all_rews.append(rewards)"
   ]
  },
  {
   "cell_type": "code",
   "execution_count": 6,
   "metadata": {},
   "outputs": [
    {
     "data": {
      "text/plain": [
       "array([[<AxesSubplot:title={'center':'reward'}>]], dtype=object)"
      ]
     },
     "execution_count": 6,
     "metadata": {},
     "output_type": "execute_result"
    },
    {
     "data": {
      "image/png": "[encoded data removed]",
      "text/plain": [
       "<Figure size 640x480 with 1 Axes>"
      ]
     },
     "metadata": {},
     "output_type": "display_data"
    }
   ],
   "source": [
    "import pandas as pd\n",
    "\n",
    "rewards = all_rews[-1]\n",
    "\n",
    "df = pd.DataFrame(rewards, columns=[\"reward\"])\n",
    "df.hist()"
   ]
  },
  {
   "cell_type": "code",
   "execution_count": 7,
   "metadata": {},
   "outputs": [
    {
     "name": "stdout",
     "output_type": "stream",
     "text": [
      "144\n",
      "4291 None\n"
     ]
    }
   ],
   "source": [
    "import numpy as np\n",
    "\n",
    "seed = int(np.argmax(rewards))\n",
    "print(seed, print(np.max(rewards)))\n",
    "\n",
    "env = X2Env()\n",
    "state, _ = env.reset(seed=seed)\n",
    "\n",
    "iter = 0"
   ]
  },
  {
   "cell_type": "code",
   "execution_count": 76,
   "metadata": {},
   "outputs": [
    {
     "name": "stdout",
     "output_type": "stream",
     "text": [
      "0009 0008 0004 0001 0004\n",
      "0008 0005 0001 0007 0005\n",
      "0007 ---- 0003 0004 0006\n",
      "---- ---- 0002 ---- ----\n",
      "---- ---- ---- ---- ----\n",
      "iter: 68, next: 3 action: 3\n",
      "0009 0008 0004 0001 0004\n",
      "0008 0005 0001 0007 0005\n",
      "0007 ---- 0003 0004 0006\n",
      "---- ---- 0002 0003 ----\n",
      "---- ---- ---- ---- ----\n"
     ]
    }
   ],
   "source": [
    "from x2 import print_grid\n",
    "\n",
    "s = env.get_state()\n",
    "\n",
    "print_grid(s.grid)\n",
    "\n",
    "action, _ = model.predict(state, deterministic=True)\n",
    "\n",
    "print(f\"iter: {iter}, next: {s.next_play} action: {action}\")\n",
    "\n",
    "next_state, reward, done, _, _ = env.step(action)\n",
    "\n",
    "print_grid(s.grid)\n",
    "iter += 1"
   ]
  }
 ],
 "metadata": {
  "kernelspec": {
   "display_name": ".venv",
   "language": "python",
   "name": "python3"
  },
  "language_info": {
   "codemirror_mode": {
    "name": "ipython",
    "version": 3
   },
   "file_extension": ".py",
   "mimetype": "text/x-python",
   "name": "python",
   "nbconvert_exporter": "python",
   "pygments_lexer": "ipython3",
   "version": "3.8.10"
  },
  "orig_nbformat": 4
 },
 "nbformat": 4,
 "nbformat_minor": 2
}
