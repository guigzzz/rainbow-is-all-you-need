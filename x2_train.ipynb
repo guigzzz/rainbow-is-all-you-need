{
 "cells": [
  {
   "cell_type": "code",
   "execution_count": 1,
   "metadata": {},
   "outputs": [],
   "source": [
    "%load_ext autoreload\n",
    "%autoreload 2"
   ]
  },
  {
   "cell_type": "code",
   "execution_count": 2,
   "metadata": {},
   "outputs": [],
   "source": [
    "from x2 import X2Env\n",
    "from stable_baselines3.common.env_checker import check_env\n",
    "\n",
    "check_env(X2Env())"
   ]
  },
  {
   "cell_type": "code",
   "execution_count": 3,
   "metadata": {},
   "outputs": [],
   "source": [
    "from stable_baselines3 import PPO\n",
    "from uuid import uuid4\n",
    "\n",
    "env = X2Env()\n",
    "\n",
    "model = PPO(\"MlpPolicy\", env, seed=0, learning_rate=0.0001, batch_size=256)"
   ]
  },
  {
   "cell_type": "code",
   "execution_count": 5,
   "metadata": {},
   "outputs": [
    {
     "name": "stdout",
     "output_type": "stream",
     "text": [
      "run id: 9e6b792d-7f0d-4de2-bb0d-b3a86a19ee68\n",
      "after 25.0k learning steps, mean rewards: 19.4353, std=7.1258272439064925\n"
     ]
    }
   ],
   "source": [
    "from eval import eval_model\n",
    "\n",
    "N = 25_000\n",
    "\n",
    "all_rews = []\n",
    "\n",
    "uuid = uuid4()\n",
    "print(f'run id: {uuid}')\n",
    "\n",
    "for i in range(10):\n",
    "    model.learn(total_timesteps=N)\n",
    "    rewards = eval_model(model)\n",
    "\n",
    "    iters = N * (i + 1) / 1000\n",
    "    print(f'after {iters}k learning steps, mean rewards: {rewards.mean()}, std={rewards.std()}')\n",
    "\n",
    "    model.save(f\"models/{uuid}_{iters}k.model\")\n",
    "\n",
    "    all_rews.append(rewards)"
   ]
  },
  {
   "cell_type": "code",
   "execution_count": 59,
   "metadata": {},
   "outputs": [
    {
     "data": {
      "text/plain": [
       "array([[<AxesSubplot:title={'center':'reward'}>]], dtype=object)"
      ]
     },
     "execution_count": 59,
     "metadata": {},
     "output_type": "execute_result"
    },
    {
     "data": {
      "image/png": "[encoded data removed]",
      "text/plain": [
       "<Figure size 640x480 with 1 Axes>"
      ]
     },
     "metadata": {},
     "output_type": "display_data"
    }
   ],
   "source": [
    "import pandas as pd\n",
    "\n",
    "rewards = all_rews[-1]\n",
    "\n",
    "df = pd.DataFrame(rewards, columns=[\"reward\"])\n",
    "df.hist()"
   ]
  },
  {
   "cell_type": "code",
   "execution_count": 307,
   "metadata": {},
   "outputs": [
    {
     "name": "stdout",
     "output_type": "stream",
     "text": [
      "105\n",
      "6134 None\n"
     ]
    }
   ],
   "source": [
    "import numpy as np\n",
    "\n",
    "seed = int(np.argmax(rewards))\n",
    "print(seed, print(np.max(rewards)))\n",
    "\n",
    "env = X2Env()\n",
    "state, _ = env.reset(seed=seed)\n",
    "\n",
    "iter = 0"
   ]
  },
  {
   "cell_type": "code",
   "execution_count": 428,
   "metadata": {},
   "outputs": [
    {
     "name": "stdout",
     "output_type": "stream",
     "text": [
      "0006 0001 0010 0006 0002\n",
      "0004 0003 0009 0001 0006\n",
      "0006 0001 0007 0008 0005\n",
      "0001 0003 0006 0007 0004\n",
      "0003 0007 0005 0006 0001\n",
      "iter: 120, next: 6 action: 0\n",
      "0006 0001 0010 0006 0002\n",
      "0004 0003 0009 0001 0006\n",
      "0006 0001 0007 0008 0005\n",
      "0001 0003 0006 0007 0004\n",
      "0003 0007 0005 0006 0001\n"
     ]
    }
   ],
   "source": [
    "from x2 import print_grid\n",
    "\n",
    "s = env.get_state()\n",
    "\n",
    "print_grid(s.grid)\n",
    "\n",
    "action, _ = model.predict(state, deterministic=True)\n",
    "\n",
    "print(f\"iter: {iter}, next: {s.next_play} action: {action}\")\n",
    "\n",
    "next_state, reward, done, _, _ = env.step(action)\n",
    "\n",
    "print_grid(s.grid)\n",
    "iter += 1"
   ]
  }
 ],
 "metadata": {
  "kernelspec": {
   "display_name": ".venv",
   "language": "python",
   "name": "python3"
  },
  "language_info": {
   "codemirror_mode": {
    "name": "ipython",
    "version": 3
   },
   "file_extension": ".py",
   "mimetype": "text/x-python",
   "name": "python",
   "nbconvert_exporter": "python",
   "pygments_lexer": "ipython3",
   "version": "3.8.10"
  },
  "orig_nbformat": 4
 },
 "nbformat": 4,
 "nbformat_minor": 2
}
