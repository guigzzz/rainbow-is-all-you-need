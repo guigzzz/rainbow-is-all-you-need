{
 "cells": [
  {
   "cell_type": "code",
   "execution_count": 1,
   "metadata": {},
   "outputs": [],
   "source": [
    "%load_ext autoreload\n",
    "%autoreload 2\n",
    "\n",
    "from x2 import make_state, place, print_grid, X2Env"
   ]
  },
  {
   "cell_type": "code",
   "execution_count": 2,
   "metadata": {},
   "outputs": [
    {
     "name": "stdout",
     "output_type": "stream",
     "text": [
      "0008 0006 ---- ---- ----\n",
      "0006 ---- ---- ---- ----\n",
      "---- ---- ---- ---- ----\n",
      "---- ---- ---- ---- ----\n",
      "---- ---- ---- ---- ----\n",
      "---- 0009 ---- ---- ----\n",
      "---- ---- ---- ---- ----\n",
      "---- ---- ---- ---- ----\n",
      "---- ---- ---- ---- ----\n",
      "---- ---- ---- ---- ----\n",
      "0008 0009 ---- ---- ----\n",
      "---- 0007 ---- ---- ----\n",
      "---- ---- ---- ---- ----\n",
      "---- ---- ---- ---- ----\n",
      "---- ---- ---- ---- ----\n",
      "0010 ---- ---- ---- ----\n",
      "---- ---- ---- ---- ----\n",
      "---- ---- ---- ---- ----\n",
      "---- ---- ---- ---- ----\n",
      "---- ---- ---- ---- ----\n"
     ]
    }
   ],
   "source": [
    "state = make_state(seed=0)\n",
    "place(state, 0, 6)\n",
    "place(state, 0, 6)\n",
    "place(state, 0, 6)\n",
    "place(state, 0, 6)\n",
    "place(state, 0, 6)\n",
    "place(state, 1, 6)\n",
    "print_grid(state.grid)\n",
    "place(state, 1, 6)\n",
    "print_grid(state.grid)\n",
    "\n",
    "place(state, 0, 6)\n",
    "place(state, 1, 6)\n",
    "place(state, 1, 7)\n",
    "place(state, 0, 6)\n",
    "print_grid(state.grid)\n",
    "\n",
    "place(state, 0, 6)\n",
    "place(state, 0, 6)\n",
    "print_grid(state.grid)"
   ]
  },
  {
   "cell_type": "code",
   "execution_count": 3,
   "metadata": {},
   "outputs": [
    {
     "name": "stdout",
     "output_type": "stream",
     "text": [
      "[0.41666667 0.41666667 0.25       0.08333333 0.16666667 0.58333333\n",
      " 0.25       0.58333333 0.41666667 0.08333333 0.41666667 0.33333333\n",
      " 0.08333333 0.25       0.16666667 0.5        0.25       0.5\n",
      " 0.08333333 0.25       0.41666667 0.5        0.16666667 0.5\n",
      " 0.33333333 0.08333333]\n",
      "Episode finished after 58 timesteps, reward=19\n"
     ]
    }
   ],
   "source": [
    "from IPython.display import clear_output\n",
    "\n",
    "env = X2Env()\n",
    "env.reset(seed=0)\n",
    "\n",
    "t = 0\n",
    "r = 0\n",
    "while True:\n",
    "   t += 1\n",
    "   env.render()\n",
    "   action = env.action_space.sample()\n",
    "   observation, reward, done, _, _ = env.step(action)\n",
    "\n",
    "   r += reward\n",
    "\n",
    "   clear_output()\n",
    "\n",
    "   print(observation)\n",
    "\n",
    "   if done:\n",
    "      print(f\"Episode finished after {t+1} timesteps, reward={r}\")\n",
    "      break\n",
    "env.close()"
   ]
  },
  {
   "cell_type": "code",
   "execution_count": null,
   "metadata": {},
   "outputs": [],
   "source": []
  }
 ],
 "metadata": {
  "kernelspec": {
   "display_name": ".venv",
   "language": "python",
   "name": "python3"
  },
  "language_info": {
   "codemirror_mode": {
    "name": "ipython",
    "version": 3
   },
   "file_extension": ".py",
   "mimetype": "text/x-python",
   "name": "python",
   "nbconvert_exporter": "python",
   "pygments_lexer": "ipython3",
   "version": "3.8.10"
  },
  "orig_nbformat": 4
 },
 "nbformat": 4,
 "nbformat_minor": 2
}
