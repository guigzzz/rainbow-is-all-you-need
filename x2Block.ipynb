{
 "cells": [
  {
   "cell_type": "code",
   "execution_count": 1,
   "metadata": {},
   "outputs": [],
   "source": [
    "%load_ext autoreload\n",
    "%autoreload 2\n",
    "%load_ext line_profiler\n",
    "\n",
    "from x2 import make_state, place, print_grid, X2Env"
   ]
  },
  {
   "cell_type": "code",
   "execution_count": 2,
   "metadata": {},
   "outputs": [
    {
     "name": "stdout",
     "output_type": "stream",
     "text": [
      "08.0 06.0 ---- ---- ----\n",
      "06.0 ---- ---- ---- ----\n",
      "---- ---- ---- ---- ----\n",
      "---- ---- ---- ---- ----\n",
      "---- ---- ---- ---- ----\n",
      "---- 09.0 ---- ---- ----\n",
      "---- ---- ---- ---- ----\n",
      "---- ---- ---- ---- ----\n",
      "---- ---- ---- ---- ----\n",
      "---- ---- ---- ---- ----\n",
      "08.0 09.0 ---- ---- ----\n",
      "---- 07.0 ---- ---- ----\n",
      "---- ---- ---- ---- ----\n",
      "---- ---- ---- ---- ----\n",
      "---- ---- ---- ---- ----\n",
      "10.0 ---- ---- ---- ----\n",
      "---- ---- ---- ---- ----\n",
      "---- ---- ---- ---- ----\n",
      "---- ---- ---- ---- ----\n",
      "---- ---- ---- ---- ----\n"
     ]
    }
   ],
   "source": [
    "state = make_state(seed=0)\n",
    "place(state, 0, 6)\n",
    "place(state, 0, 6)\n",
    "place(state, 0, 6)\n",
    "place(state, 0, 6)\n",
    "place(state, 0, 6)\n",
    "place(state, 1, 6)\n",
    "print_grid(state.grid)\n",
    "place(state, 1, 6)\n",
    "print_grid(state.grid)\n",
    "\n",
    "place(state, 0, 6)\n",
    "place(state, 1, 6)\n",
    "place(state, 1, 7)\n",
    "place(state, 0, 6)\n",
    "print_grid(state.grid)\n",
    "\n",
    "place(state, 0, 6)\n",
    "place(state, 0, 6)\n",
    "print_grid(state.grid)"
   ]
  },
  {
   "cell_type": "code",
   "execution_count": 3,
   "metadata": {},
   "outputs": [],
   "source": [
    "state = make_state(seed=0)"
   ]
  },
  {
   "cell_type": "code",
   "execution_count": 4,
   "metadata": {},
   "outputs": [
    {
     "name": "stdout",
     "output_type": "stream",
     "text": [
      "667 ns ± 3.93 ns per loop (mean ± std. dev. of 7 runs, 1,000,000 loops each)\n"
     ]
    }
   ],
   "source": [
    "%%timeit \n",
    "\n",
    "place(state, 0, 6)"
   ]
  },
  {
   "cell_type": "code",
   "execution_count": 5,
   "metadata": {},
   "outputs": [],
   "source": [
    "\n",
    "def prof():\n",
    "    env = X2Env()\n",
    "    env.reset(seed=0)\n",
    "\n",
    "    for _ in range(10_000):\n",
    "        action = env.action_space.sample()\n",
    "        _, _, done, _, _ = env.step(action)\n",
    "        if done:\n",
    "            env.reset(seed=0)"
   ]
  },
  {
   "cell_type": "code",
   "execution_count": 6,
   "metadata": {},
   "outputs": [
    {
     "name": "stdout",
     "output_type": "stream",
     "text": [
      "Timer unit: 1e-09 s\n",
      "\n",
      "Total time: 0.491212 s\n",
      "File: /tmp/ipykernel_19422/3842561012.py\n",
      "Function: prof at line 1\n",
      "\n",
      "Line #      Hits         Time  Per Hit   % Time  Line Contents\n",
      "==============================================================\n",
      "     1                                           def prof():\n",
      "     2         1     229260.0 229260.0      0.0      env = X2Env()\n",
      "     3         1     250620.0 250620.0      0.1      env.reset(seed=0)\n",
      "     4                                           \n",
      "     5     10001    1858088.0    185.8      0.4      for _ in range(10_000):\n",
      "     6     10000   53997174.0   5399.7     11.0          action = env.action_space.sample()\n",
      "     7     10000  408067507.0  40806.8     83.1          _, _, done, _, _ = env.step(action)\n",
      "     8     10000    1694708.0    169.5      0.3          if done:\n",
      "     9       227   25114813.0 110637.9      5.1              env.reset(seed=0)"
     ]
    }
   ],
   "source": [
    "%lprun -f prof prof()"
   ]
  },
  {
   "cell_type": "code",
   "execution_count": 7,
   "metadata": {},
   "outputs": [
    {
     "data": {
      "text/plain": [
       "(array([3., 0., 0., 0., 0., 0., 0., 0., 0., 0., 0., 0., 0., 0., 0., 0., 0.,\n",
       "        0., 0., 0., 0., 0., 0., 0., 0., 0.]),\n",
       " {})"
      ]
     },
     "execution_count": 7,
     "metadata": {},
     "output_type": "execute_result"
    }
   ],
   "source": [
    "env = X2Env()\n",
    "env.reset(seed=0)"
   ]
  },
  {
   "cell_type": "code",
   "execution_count": 8,
   "metadata": {},
   "outputs": [
    {
     "name": "stdout",
     "output_type": "stream",
     "text": [
      "26.8 µs ± 1.17 µs per loop (mean ± std. dev. of 7 runs, 10,000 loops each)\n"
     ]
    }
   ],
   "source": [
    "%%timeit\n",
    "\n",
    "action = env.action_space.sample()\n",
    "observation, reward, done, _, _ = env.step(action)\n",
    "if done:\n",
    "    env.reset(seed=0)"
   ]
  },
  {
   "cell_type": "code",
   "execution_count": 9,
   "metadata": {},
   "outputs": [
    {
     "name": "stdout",
     "output_type": "stream",
     "text": [
      "[2. 5. 3. 1. 2. 7. 3. 7. 5. 1. 5. 4. 1. 3. 2. 6. 3. 4. 1. 3. 5. 6. 0. 3.\n",
      " 4. 1.]\n",
      "Episode finished after 45 timesteps, reward=24\n"
     ]
    }
   ],
   "source": [
    "from IPython.display import clear_output\n",
    "\n",
    "env = X2Env()\n",
    "env.reset(seed=0)\n",
    "\n",
    "t = 0\n",
    "r = 0\n",
    "while True:\n",
    "   t += 1\n",
    "   env.render()\n",
    "   action = env.action_space.sample()\n",
    "   observation, reward, done, _, _ = env.step(action)\n",
    "\n",
    "   r += reward\n",
    "\n",
    "   clear_output()\n",
    "\n",
    "   print(observation)\n",
    "\n",
    "   if done:\n",
    "      print(f\"Episode finished after {t+1} timesteps, reward={r}\")\n",
    "      break\n",
    "env.close()"
   ]
  },
  {
   "cell_type": "code",
   "execution_count": 19,
   "metadata": {},
   "outputs": [
    {
     "data": {
      "text/plain": [
       "(21.487, 7.352947096232912)"
      ]
     },
     "execution_count": 19,
     "metadata": {},
     "output_type": "execute_result"
    }
   ],
   "source": [
    "from typing import List\n",
    "import numpy as np\n",
    "\n",
    "env = X2Env()\n",
    "env.reset()\n",
    "\n",
    "rewards: List[int] = []\n",
    "\n",
    "for s in range(1000):\n",
    "    env.reset(seed=s)\n",
    "    r = 0\n",
    "\n",
    "    while True:\n",
    "        action = env.action_space.sample()\n",
    "        observation, reward, done, _, _ = env.step(action)\n",
    "\n",
    "        r += reward\n",
    "\n",
    "        if done:\n",
    "            rewards.append(r)\n",
    "            break\n",
    "            \n",
    "env.close()\n",
    "\n",
    "np.mean(rewards), np.std(rewards)"
   ]
  },
  {
   "cell_type": "code",
   "execution_count": null,
   "metadata": {},
   "outputs": [],
   "source": []
  }
 ],
 "metadata": {
  "kernelspec": {
   "display_name": ".venv",
   "language": "python",
   "name": "python3"
  },
  "language_info": {
   "codemirror_mode": {
    "name": "ipython",
    "version": 3
   },
   "file_extension": ".py",
   "mimetype": "text/x-python",
   "name": "python",
   "nbconvert_exporter": "python",
   "pygments_lexer": "ipython3",
   "version": "3.8.10"
  },
  "orig_nbformat": 4
 },
 "nbformat": 4,
 "nbformat_minor": 2
}
